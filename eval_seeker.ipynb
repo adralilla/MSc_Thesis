{
 "cells": [
  {
   "cell_type": "code",
   "execution_count": 19,
   "metadata": {},
   "outputs": [],
   "source": [
    "import pandas as pd\n",
    "from sklearn.metrics import confusion_matrix, RocCurveDisplay, roc_curve, auc, matthews_corrcoef, accuracy_score, precision_score, recall_score, f1_score\n",
    "import matplotlib.pyplot as plt"
   ]
  },
  {
   "cell_type": "code",
   "execution_count": 20,
   "metadata": {},
   "outputs": [
    {
     "name": "stdout",
     "output_type": "stream",
     "text": [
      "                                                      ID pred_label  \\\n",
      "0      LCA_seed33_repr_k6_Pshort0_1024_s4000_k6s1_rec...      Phage   \n",
      "1      LCA_seed33_repr_k6_Pshort0_1024_s4000_k6s1_rec...   Bacteria   \n",
      "2      LCA_seed33_repr_k6_Pshort0_1024_s4000_k6s1_rec...   Bacteria   \n",
      "3      LCA_seed33_repr_k6_Pshort0_1024_s4000_k6s1_rec...      Phage   \n",
      "4      LCA_seed33_repr_k6_Pshort0_1024_s4000_k6s1_rec...      Phage   \n",
      "...                                                  ...        ...   \n",
      "29663  LCA_seed33_repr_k6_Pshort0_1024_s4000_k6s1_rec...      Phage   \n",
      "29664  LCA_seed33_repr_k6_Pshort0_1024_s4000_k6s1_rec...   Bacteria   \n",
      "29665  LCA_seed33_repr_k6_Pshort0_1024_s4000_k6s1_rec...   Bacteria   \n",
      "29666  LCA_seed33_repr_k6_Pshort0_1024_s4000_k6s1_rec...      Phage   \n",
      "29667  LCA_seed33_repr_k6_Pshort0_1024_s4000_k6s1_rec...   Bacteria   \n",
      "\n",
      "       pred_score GT_class  pred_class  \n",
      "0            0.77        1           1  \n",
      "1            0.50        1           0  \n",
      "2            0.04        0           0  \n",
      "3            0.77        1           1  \n",
      "4            0.82        1           1  \n",
      "...           ...      ...         ...  \n",
      "29663        0.80        1           1  \n",
      "29664        0.13        1           0  \n",
      "29665        0.14        0           0  \n",
      "29666        0.72        0           1  \n",
      "29667        0.06        0           0  \n",
      "\n",
      "[29668 rows x 5 columns]\n"
     ]
    }
   ],
   "source": [
    "# Read the text file into a DataFrame\n",
    "df_1 = pd.read_csv('/home/adralilla/Documents/Thesis/log_group1.txt', delimiter='\\t')\n",
    "df_5 = pd.read_csv('/home/adralilla/Documents/Thesis/log_group_5.txt', delimiter='\\t')\n",
    "df_10 = pd.read_csv('/home/adralilla/Documents/Thesis/log_group_10.txt', delimiter='\\t')\n",
    "\n",
    "# Create a list of column names\n",
    "column_names = ['ID', 'pred_label', 'pred_score']\n",
    "\n",
    "# Assign the column names to the DataFrame\n",
    "df_1.columns = column_names\n",
    "df_5.columns = column_names\n",
    "df_10.columns = column_names\n",
    "\n",
    "df = pd.concat([df_1, df_5, df_10], ignore_index=True)\n",
    "\n",
    "df['GT_class'] = df['ID'].str.rsplit('_', n=1).str[-1]\n",
    "\n",
    "mapping = {'Bacteria': 0, 'Phage': 1}\n",
    "\n",
    "# Use the map() function to assign numerical values\n",
    "df['pred_class'] = df['pred_label'].map(mapping)\n",
    "\n",
    "# Print the DataFrame\n",
    "print(df)"
   ]
  },
  {
   "cell_type": "code",
   "execution_count": 21,
   "metadata": {},
   "outputs": [
    {
     "data": {
      "text/plain": [
       "array([[ 9144,  5685],\n",
       "       [ 2664, 12175]])"
      ]
     },
     "execution_count": 21,
     "metadata": {},
     "output_type": "execute_result"
    }
   ],
   "source": [
    "# True labels\n",
    "true_labels = df[\"GT_class\"].astype(int)\n",
    "\n",
    "# Predicted labels\n",
    "predicted_labels = df[\"pred_class\"]\n",
    "\n",
    "# Calculate the confusion matrix\n",
    "cm = confusion_matrix(true_labels, predicted_labels)\n",
    "cm"
   ]
  },
  {
   "cell_type": "code",
   "execution_count": 22,
   "metadata": {},
   "outputs": [
    {
     "name": "stdout",
     "output_type": "stream",
     "text": [
      "0.44649108805655835\n"
     ]
    }
   ],
   "source": [
    "mcc = matthews_corrcoef(true_labels, predicted_labels)\n",
    "print(mcc)"
   ]
  },
  {
   "cell_type": "code",
   "execution_count": 23,
   "metadata": {},
   "outputs": [
    {
     "name": "stdout",
     "output_type": "stream",
     "text": [
      "0.7185856815424025\n"
     ]
    }
   ],
   "source": [
    "acc = accuracy_score(true_labels, predicted_labels)\n",
    "print(acc)"
   ]
  },
  {
   "cell_type": "code",
   "execution_count": 24,
   "metadata": {},
   "outputs": [
    {
     "name": "stdout",
     "output_type": "stream",
     "text": [
      "0.8204730777006537\n"
     ]
    }
   ],
   "source": [
    "recall = recall_score(true_labels, predicted_labels, average=\"binary\", pos_label= 1)\n",
    "print(recall)"
   ]
  },
  {
   "cell_type": "code",
   "execution_count": 25,
   "metadata": {},
   "outputs": [
    {
     "name": "stdout",
     "output_type": "stream",
     "text": [
      "0.7446710908590478\n"
     ]
    }
   ],
   "source": [
    "f1 = f1_score(true_labels, predicted_labels, average=\"binary\", pos_label= 1)\n",
    "print(f1)"
   ]
  },
  {
   "cell_type": "code",
   "execution_count": 26,
   "metadata": {},
   "outputs": [
    {
     "name": "stdout",
     "output_type": "stream",
     "text": [
      "0.6816909294512878\n"
     ]
    }
   ],
   "source": [
    "prec = precision_score(true_labels, predicted_labels, average=\"binary\", pos_label= 1)\n",
    "print(prec)"
   ]
  },
  {
   "cell_type": "code",
   "execution_count": 27,
   "metadata": {},
   "outputs": [
    {
     "data": {
      "image/png": "[encoded data removed]",
      "text/plain": [
       "<Figure size 640x480 with 1 Axes>"
      ]
     },
     "metadata": {},
     "output_type": "display_data"
    }
   ],
   "source": [
    "fpr, tpr, thresholds = roc_curve(true_labels, predicted_labels)\n",
    "roc_auc = auc(fpr, tpr)\n",
    "display = RocCurveDisplay(fpr=fpr, tpr=tpr, roc_auc=roc_auc)\n",
    "display.plot()\n",
    "plt.show()"
   ]
  }
 ],
 "metadata": {
  "kernelspec": {
   "display_name": "Python 3",
   "language": "python",
   "name": "python3"
  },
  "language_info": {
   "codemirror_mode": {
    "name": "ipython",
    "version": 3
   },
   "file_extension": ".py",
   "mimetype": "text/x-python",
   "name": "python",
   "nbconvert_exporter": "python",
   "pygments_lexer": "ipython3",
   "version": "3.10.6"
  },
  "orig_nbformat": 4
 },
 "nbformat": 4,
 "nbformat_minor": 2
}
