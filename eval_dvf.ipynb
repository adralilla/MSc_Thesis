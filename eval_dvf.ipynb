{
 "cells": [
  {
   "cell_type": "code",
   "execution_count": 1,
   "metadata": {},
   "outputs": [],
   "source": [
    "import pandas as pd\n",
    "from sklearn.metrics import confusion_matrix, RocCurveDisplay, roc_curve, auc, matthews_corrcoef, accuracy_score, precision_score, recall_score, f1_score\n",
    "import matplotlib.pyplot as plt"
   ]
  },
  {
   "cell_type": "code",
   "execution_count": 2,
   "metadata": {},
   "outputs": [
    {
     "name": "stdout",
     "output_type": "stream",
     "text": [
      "0                                                   name   len  \\\n",
      "0      LCA_seed33_repr_k6_Pshort0_1024_s4000_k6s1_rec...  1026   \n",
      "1      LCA_seed33_repr_k6_Pshort0_1024_s4000_k6s1_rec...  1026   \n",
      "2      LCA_seed33_repr_k6_Pshort0_1024_s4000_k6s1_rec...  1026   \n",
      "3      LCA_seed33_repr_k6_Pshort0_1024_s4000_k6s1_rec...  1026   \n",
      "4      LCA_seed33_repr_k6_Pshort0_1024_s4000_k6s1_rec...  1026   \n",
      "...                                                  ...   ...   \n",
      "29666  LCA_seed33_repr_k6_Pshort0_1024_s4000_k6s1_rec...  1026   \n",
      "29667  LCA_seed33_repr_k6_Pshort0_1024_s4000_k6s1_rec...  1026   \n",
      "29668  LCA_seed33_repr_k6_Pshort0_1024_s4000_k6s1_rec...  1026   \n",
      "29669  LCA_seed33_repr_k6_Pshort0_1024_s4000_k6s1_rec...  1026   \n",
      "29670  LCA_seed33_repr_k6_Pshort0_1024_s4000_k6s1_rec...  1026   \n",
      "\n",
      "0                       score                 pvalue GT_class  \n",
      "0          0.9999982714653015  0.0004343228340509102        1  \n",
      "1          0.5079078674316406     0.0579537729435758        1  \n",
      "2          0.9994547963142395  0.0029647254324344737        1  \n",
      "3      1.5831801647436805e-05     0.7601027267920538        0  \n",
      "4          0.9997771978378296   0.002077196162852179        1  \n",
      "...                       ...                    ...      ...  \n",
      "29666      0.9999892115592957  0.0006609260518166025        1  \n",
      "29667      0.5187327265739441    0.05481909509781706        1  \n",
      "29668  0.00010565348929958418     0.6555253417931868        0  \n",
      "29669   0.0012663209345191717    0.49208777097968126        0  \n",
      "29670   9.918108116835356e-05     0.6592454112848403        0  \n",
      "\n",
      "[29671 rows x 5 columns]\n"
     ]
    }
   ],
   "source": [
    "# Read the text file into a DataFrame\n",
    "df_1 = pd.read_csv('/home/adralilla/Documents/Thesis/output_group_1.fasta_gt1bp_dvfpred.txt', delimiter='\\t', header=None)\n",
    "df_5 = pd.read_csv('/home/adralilla/Documents/Thesis/output_group_5.fasta_gt1bp_dvfpred.txt', delimiter='\\t', header=None)\n",
    "df_10 = pd.read_csv('/home/adralilla/Documents/Thesis/output_group_10.fasta_gt1bp_dvfpred.txt', delimiter='\\t', header=None)\n",
    "\n",
    "# Create a list of column names\n",
    "column_names = df_1.iloc[0]\n",
    "\n",
    "# Assign the column names to the DataFrame\n",
    "df_1.columns = column_names\n",
    "df_5.columns = column_names\n",
    "df_10.columns = column_names\n",
    "\n",
    "# Remove the row containing the column names from the DataFrame\n",
    "df_1 = df_1[1:]\n",
    "df_5 = df_5[1:]\n",
    "df_10 = df_10[1:]\n",
    "\n",
    "df=pd.concat([df_1, df_5, df_10], ignore_index=True)\n",
    "\n",
    "df['GT_class'] = df['name'].str.rsplit('_', n=1).str[-1]\n",
    "\n",
    "# Print the DataFrame\n",
    "print(df)"
   ]
  },
  {
   "cell_type": "code",
   "execution_count": 3,
   "metadata": {},
   "outputs": [
    {
     "data": {
      "text/plain": [
       "array([[12890,  1940],\n",
       "       [ 1223, 13618]])"
      ]
     },
     "execution_count": 3,
     "metadata": {},
     "output_type": "execute_result"
    }
   ],
   "source": [
    "# True labels\n",
    "true_labels = df[\"GT_class\"].astype(int)\n",
    "\n",
    "# Predicted labels\n",
    "predicted= df[\"score\"].astype(float)\n",
    "\n",
    "# Define a threshold to convert float predictions into discrete values\n",
    "threshold = 0.5\n",
    "\n",
    "# Convert float predictions to discrete values based on the threshold\n",
    "predicted_labels = [1 if val >= threshold else 0 for val in predicted]\n",
    "\n",
    "# Calculate the confusion matrix\n",
    "cm = confusion_matrix(true_labels, predicted_labels)\n",
    "cm"
   ]
  },
  {
   "cell_type": "code",
   "execution_count": 4,
   "metadata": {},
   "outputs": [
    {
     "name": "stdout",
     "output_type": "stream",
     "text": [
      "0.7877118739056986\n"
     ]
    }
   ],
   "source": [
    "mcc = matthews_corrcoef(true_labels, predicted_labels)\n",
    "print(mcc)"
   ]
  },
  {
   "cell_type": "code",
   "execution_count": 5,
   "metadata": {},
   "outputs": [
    {
     "name": "stdout",
     "output_type": "stream",
     "text": [
      "0.8933975936099221\n"
     ]
    }
   ],
   "source": [
    "acc = accuracy_score(true_labels, predicted_labels)\n",
    "print(acc)"
   ]
  },
  {
   "cell_type": "code",
   "execution_count": 6,
   "metadata": {},
   "outputs": [
    {
     "name": "stdout",
     "output_type": "stream",
     "text": [
      "0.917593154100128\n"
     ]
    }
   ],
   "source": [
    "recall = recall_score(true_labels, predicted_labels, average=\"binary\", pos_label= 1)\n",
    "print(recall)"
   ]
  },
  {
   "cell_type": "code",
   "execution_count": 7,
   "metadata": {},
   "outputs": [
    {
     "name": "stdout",
     "output_type": "stream",
     "text": [
      "0.895950524688312\n"
     ]
    }
   ],
   "source": [
    "f1 = f1_score(true_labels, predicted_labels, average=\"binary\", pos_label= 1)\n",
    "print(f1)"
   ]
  },
  {
   "cell_type": "code",
   "execution_count": 8,
   "metadata": {},
   "outputs": [
    {
     "name": "stdout",
     "output_type": "stream",
     "text": [
      "0.8753053091657025\n"
     ]
    }
   ],
   "source": [
    "prec = precision_score(true_labels, predicted_labels, average=\"binary\", pos_label= 1)\n",
    "print(prec)"
   ]
  },
  {
   "cell_type": "code",
   "execution_count": 9,
   "metadata": {},
   "outputs": [
    {
     "data": {
      "image/png": "[encoded data removed]",
      "text/plain": [
       "<Figure size 640x480 with 1 Axes>"
      ]
     },
     "metadata": {},
     "output_type": "display_data"
    }
   ],
   "source": [
    "fpr, tpr, thresholds = roc_curve(true_labels, predicted_labels)\n",
    "roc_auc = auc(fpr, tpr)\n",
    "display = RocCurveDisplay(fpr=fpr, tpr=tpr, roc_auc=roc_auc)\n",
    "display.plot()\n",
    "plt.show()"
   ]
  }
 ],
 "metadata": {
  "kernelspec": {
   "display_name": "Python 3",
   "language": "python",
   "name": "python3"
  },
  "language_info": {
   "codemirror_mode": {
    "name": "ipython",
    "version": 3
   },
   "file_extension": ".py",
   "mimetype": "text/x-python",
   "name": "python",
   "nbconvert_exporter": "python",
   "pygments_lexer": "ipython3",
   "version": "3.10.6"
  },
  "orig_nbformat": 4
 },
 "nbformat": 4,
 "nbformat_minor": 2
}
